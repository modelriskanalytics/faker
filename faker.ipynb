{
 "cells": [
  {
   "cell_type": "code",
   "execution_count": 31,
   "metadata": {},
   "outputs": [
    {
     "data": {
      "text/plain": [
       "['en_US', 'en_PH', 'ja_JP']"
      ]
     },
     "execution_count": 31,
     "metadata": {},
     "output_type": "execute_result"
    }
   ],
   "source": [
    "from collections import OrderedDict\n",
    "from faker import Faker\n",
    "locales = OrderedDict([\n",
    "    ('en-US', 1),\n",
    "    ('en-PH', 2),\n",
    "    ('ja_JP', 3),\n",
    "])\n",
    "fake = Faker(locales)\n",
    "\n",
    "# Get the list of locales specified during instantiation\n",
    "fake.locales"
   ]
  },
  {
   "cell_type": "code",
   "execution_count": 32,
   "metadata": {},
   "outputs": [
    {
     "ename": "KeyError",
     "evalue": "'en_GB'",
     "output_type": "error",
     "traceback": [
      "\u001b[0;31m---------------------------------------------------------------------------\u001b[0m",
      "\u001b[0;31mKeyError\u001b[0m                                  Traceback (most recent call last)",
      "\u001b[0;32m<ipython-input-32-94734cb76cdc>\u001b[0m in \u001b[0;36m<module>\u001b[0;34m()\u001b[0m\n\u001b[1;32m      1\u001b[0m \u001b[0;31m# Will raise a KeyError as 'en_GB' was not included\u001b[0m\u001b[0;34m\u001b[0m\u001b[0;34m\u001b[0m\u001b[0m\n\u001b[0;32m----> 2\u001b[0;31m \u001b[0mfake\u001b[0m\u001b[0;34m[\u001b[0m\u001b[0;34m'en_GB'\u001b[0m\u001b[0;34m]\u001b[0m\u001b[0;34m\u001b[0m\u001b[0m\n\u001b[0m",
      "\u001b[0;32m/opt/conda/lib/python3.6/site-packages/faker/proxy.py\u001b[0m in \u001b[0;36m__getitem__\u001b[0;34m(self, locale)\u001b[0m\n\u001b[1;32m     57\u001b[0m \u001b[0;34m\u001b[0m\u001b[0m\n\u001b[1;32m     58\u001b[0m     \u001b[0;32mdef\u001b[0m \u001b[0m__getitem__\u001b[0m\u001b[0;34m(\u001b[0m\u001b[0mself\u001b[0m\u001b[0;34m,\u001b[0m \u001b[0mlocale\u001b[0m\u001b[0;34m)\u001b[0m\u001b[0;34m:\u001b[0m\u001b[0;34m\u001b[0m\u001b[0m\n\u001b[0;32m---> 59\u001b[0;31m         \u001b[0;32mreturn\u001b[0m \u001b[0mself\u001b[0m\u001b[0;34m.\u001b[0m\u001b[0m_factory_map\u001b[0m\u001b[0;34m[\u001b[0m\u001b[0mlocale\u001b[0m\u001b[0;34m.\u001b[0m\u001b[0mreplace\u001b[0m\u001b[0;34m(\u001b[0m\u001b[0;34m'-'\u001b[0m\u001b[0;34m,\u001b[0m \u001b[0;34m'_'\u001b[0m\u001b[0;34m)\u001b[0m\u001b[0;34m]\u001b[0m\u001b[0;34m\u001b[0m\u001b[0m\n\u001b[0m\u001b[1;32m     60\u001b[0m \u001b[0;34m\u001b[0m\u001b[0m\n\u001b[1;32m     61\u001b[0m     \u001b[0;32mdef\u001b[0m \u001b[0m__getattribute__\u001b[0m\u001b[0;34m(\u001b[0m\u001b[0mself\u001b[0m\u001b[0;34m,\u001b[0m \u001b[0mattr\u001b[0m\u001b[0;34m)\u001b[0m\u001b[0;34m:\u001b[0m\u001b[0;34m\u001b[0m\u001b[0m\n",
      "\u001b[0;31mKeyError\u001b[0m: 'en_GB'"
     ]
    }
   ],
   "source": [
    "# Will raise a KeyError as 'en_GB' was not included\n",
    "fake['en_GB']"
   ]
  },
  {
   "cell_type": "code",
   "execution_count": 33,
   "metadata": {},
   "outputs": [
    {
     "name": "stdout",
     "output_type": "stream",
     "text": [
      "石田 あすか\n",
      "野村 知実\n",
      "中島 加奈\n",
      "Nathan Cooley\n",
      "笹田 さゆり\n",
      "John Flores\n",
      "Kelly Castro\n",
      "Frederick Taylor\n",
      "野村 加奈\n",
      "廣川 陽子\n"
     ]
    }
   ],
   "source": [
    "# Generate a name based on the provided weights\n",
    "# en_US - 16.67% of the time (1 / (1 + 2 + 3))\n",
    "# en_PH - 33.33% of the time (2 / (1 + 2 + 3))\n",
    "# ja_JP - 50.00% of the time (3 / (1 + 2 + 3))\n",
    "for i in range(10):\n",
    "    print(fake.name())"
   ]
  },
  {
   "cell_type": "code",
   "execution_count": 34,
   "metadata": {},
   "outputs": [
    {
     "name": "stdout",
     "output_type": "stream",
     "text": [
      "808-9723\n",
      "879-7303\n",
      "99329\n",
      "756-7559\n",
      "255-8028\n",
      "510-8205\n",
      "815-5798\n",
      "465-7553\n",
      "743-9135\n",
      "498-3634\n"
     ]
    }
   ],
   "source": [
    "# Generate a zipcode based on the provided weights\n",
    "# Note: en_PH does not support the zipcode provider method\n",
    "# en_US - 25% of the time (1 / (1 + 3))\n",
    "# ja_JP - 75% of the time (3 / (1 + 3))\n",
    "for i in range(10):\n",
    "    print(fake.zipcode())"
   ]
  },
  {
   "cell_type": "code",
   "execution_count": 35,
   "metadata": {},
   "outputs": [
    {
     "ename": "AttributeError",
     "evalue": "'Generator' object has no attribute 'zipcode'",
     "output_type": "error",
     "traceback": [
      "\u001b[0;31m---------------------------------------------------------------------------\u001b[0m",
      "\u001b[0;31mAttributeError\u001b[0m                            Traceback (most recent call last)",
      "\u001b[0;32m<ipython-input-35-30a5f3e1ed0d>\u001b[0m in \u001b[0;36m<module>\u001b[0;34m()\u001b[0m\n\u001b[1;32m      1\u001b[0m \u001b[0;31m# Will raise an AttributeError\u001b[0m\u001b[0;34m\u001b[0m\u001b[0;34m\u001b[0m\u001b[0m\n\u001b[0;32m----> 2\u001b[0;31m \u001b[0mfake\u001b[0m\u001b[0;34m[\u001b[0m\u001b[0;34m'en_PH'\u001b[0m\u001b[0;34m]\u001b[0m\u001b[0;34m.\u001b[0m\u001b[0mzipcode\u001b[0m\u001b[0;34m(\u001b[0m\u001b[0;34m)\u001b[0m\u001b[0;34m\u001b[0m\u001b[0m\n\u001b[0m",
      "\u001b[0;31mAttributeError\u001b[0m: 'Generator' object has no attribute 'zipcode'"
     ]
    }
   ],
   "source": [
    "# Will raise an AttributeError\n",
    "fake['en_PH'].zipcode()"
   ]
  },
  {
   "cell_type": "code",
   "execution_count": 36,
   "metadata": {},
   "outputs": [
    {
     "name": "stdout",
     "output_type": "stream",
     "text": [
      "Sorsogon\n",
      "Pangasinan\n",
      "Quezon\n",
      "Rizal\n",
      "Mountain Province\n",
      "Pampanga\n",
      "Kalinga\n",
      "Camarines Sur\n",
      "Pangasinan\n",
      "Quezon\n"
     ]
    }
   ],
   "source": [
    "# Generate a Luzon province name\n",
    "# Note: only en_PH out of the three supports this provider method\n",
    "for i in range(10):\n",
    "    print(fake.luzon_province())"
   ]
  },
  {
   "cell_type": "code",
   "execution_count": 37,
   "metadata": {},
   "outputs": [
    {
     "ename": "AttributeError",
     "evalue": "'Generator' object has no attribute 'luzon_province'",
     "output_type": "error",
     "traceback": [
      "\u001b[0;31m---------------------------------------------------------------------------\u001b[0m",
      "\u001b[0;31mAttributeError\u001b[0m                            Traceback (most recent call last)",
      "\u001b[0;32m<ipython-input-37-1a5021b86658>\u001b[0m in \u001b[0;36m<module>\u001b[0;34m()\u001b[0m\n\u001b[1;32m      1\u001b[0m \u001b[0;31m# Will raise an AttributeError\u001b[0m\u001b[0;34m\u001b[0m\u001b[0;34m\u001b[0m\u001b[0m\n\u001b[0;32m----> 2\u001b[0;31m \u001b[0mfake\u001b[0m\u001b[0;34m[\u001b[0m\u001b[0;34m'ja_JP'\u001b[0m\u001b[0;34m]\u001b[0m\u001b[0;34m.\u001b[0m\u001b[0mluzon_province\u001b[0m\u001b[0;34m(\u001b[0m\u001b[0;34m)\u001b[0m\u001b[0;34m\u001b[0m\u001b[0m\n\u001b[0m",
      "\u001b[0;31mAttributeError\u001b[0m: 'Generator' object has no attribute 'luzon_province'"
     ]
    }
   ],
   "source": [
    "# Will raise an AttributeError\n",
    "fake['ja_JP'].luzon_province()"
   ]
  },
  {
   "cell_type": "code",
   "execution_count": 38,
   "metadata": {},
   "outputs": [
    {
     "name": "stdout",
     "output_type": "stream",
     "text": [
      "Name PostCode CreditCardNumber\n",
      "Katie Gilbert 53804 4859150310907\n",
      "Darrell Hutchinson 14429 3543306005523013\n",
      "Austin Williams 03272 4228069032005914571\n",
      "Jerry Miranda 97487 566927315101\n",
      "Shaun Anderson 77172 3552544960820408\n",
      "Christopher Chavez 30864 6503371419399542\n",
      "Diana Christensen 20308 581813110235\n",
      "Alexander Caldwell 59989 4336680990680\n",
      "Tammie Alvarado 63389 4195454061143070677\n",
      "Steve Austin 01199 4137319567257\n"
     ]
    }
   ],
   "source": [
    "# Generate a US generator\n",
    "us = fake['en_US']\n",
    "print('Name' + ' ' + 'PostCode' + ' ' + 'CreditCardNumber')\n",
    "for i in range(10):\n",
    "    print(us.name() + ' ' + us.postalcode() + ' ' + us.credit_card_number())"
   ]
  },
  {
   "cell_type": "code",
   "execution_count": 39,
   "metadata": {},
   "outputs": [],
   "source": [
    "# Generate a PH generator\n",
    "# Because of specific seed, re-run the code after this cell will lead to the same result.\n",
    "ph = fake['en_PH']"
   ]
  },
  {
   "cell_type": "code",
   "execution_count": 40,
   "metadata": {},
   "outputs": [
    {
     "name": "stdout",
     "output_type": "stream",
     "text": [
      "Norma Fisher\n",
      "Jorge Sullivan\n",
      "Elizabeth Woods\n",
      "Susan Wagner\n",
      "Peter Montgomery\n",
      "Theodore Mcgrath\n",
      "Stephanie Collins\n",
      "Stephanie Sutton\n",
      "Brian Hamilton\n",
      "Susan Levy\n"
     ]
    }
   ],
   "source": [
    "# Creates and seeds a unique `random.Random` object for\n",
    "# the en_US internal generator of this `Faker` instance\n",
    "fake.seed_locale('en_PH', 0)\n",
    "for i in range(10):\n",
    "    print(ph.name())"
   ]
  },
  {
   "cell_type": "code",
   "execution_count": 41,
   "metadata": {},
   "outputs": [
    {
     "name": "stdout",
     "output_type": "stream",
     "text": [
      "Ryan Gallagher\n",
      "Jon Cole\n",
      "Rachel Davis\n",
      "Russell Reynolds\n",
      "April Griffin\n",
      "Crystal Landry\n",
      "Amanda Johnson\n",
      "Teresa James\n",
      "Javier Johnson\n",
      "Jeffrey Simpson\n"
     ]
    }
   ],
   "source": [
    "# Creates and seeds a unique `random.Random` object for\n",
    "# each internal generator of this `Faker` instance\n",
    "fake.seed_instance(1)\n",
    "for i in range(10):\n",
    "    print(ph.name())"
   ]
  },
  {
   "cell_type": "code",
   "execution_count": 42,
   "metadata": {},
   "outputs": [
    {
     "name": "stdout",
     "output_type": "stream",
     "text": [
      "David Robinson\n",
      "Dylan Smith\n",
      "Kristie May\n",
      "Willie Heath\n",
      "Gary Griffith\n",
      "Taylor Henderson\n",
      "Meagan Turner\n",
      "Sonya Mathis\n",
      "Leah Johnson\n",
      "Robert Perry\n"
     ]
    }
   ],
   "source": [
    "# Set the seed value of the shared `random.Random` object\n",
    "# across all internal generators that will ever be created\n",
    "Faker.seed(2)\n",
    "for i in range(10):\n",
    "    print(ph.name())"
   ]
  }
 ],
 "metadata": {
  "kernelspec": {
   "display_name": "Python 3",
   "language": "python",
   "name": "python3"
  },
  "language_info": {
   "codemirror_mode": {
    "name": "ipython",
    "version": 3
   },
   "file_extension": ".py",
   "mimetype": "text/x-python",
   "name": "python",
   "nbconvert_exporter": "python",
   "pygments_lexer": "ipython3",
   "version": "3.6.6"
  }
 },
 "nbformat": 4,
 "nbformat_minor": 2
}
