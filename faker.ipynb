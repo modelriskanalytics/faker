{
 "cells": [
  {
   "cell_type": "code",
   "execution_count": 3,
   "metadata": {},
   "outputs": [
    {
     "ename": "KeyError",
     "evalue": "'en_GB'",
     "output_type": "error",
     "traceback": [
      "\u001b[0;31m---------------------------------------------------------------------------\u001b[0m",
      "\u001b[0;31mKeyError\u001b[0m                                  Traceback (most recent call last)",
      "\u001b[0;32m<ipython-input-3-57917009e75d>\u001b[0m in \u001b[0;36m<module>\u001b[0;34m()\u001b[0m\n\u001b[1;32m     24\u001b[0m \u001b[0;34m\u001b[0m\u001b[0m\n\u001b[1;32m     25\u001b[0m \u001b[0;31m# Will raise a KeyError as 'en_GB' was not included\u001b[0m\u001b[0;34m\u001b[0m\u001b[0;34m\u001b[0m\u001b[0m\n\u001b[0;32m---> 26\u001b[0;31m \u001b[0mfake\u001b[0m\u001b[0;34m[\u001b[0m\u001b[0;34m'en_GB'\u001b[0m\u001b[0;34m]\u001b[0m\u001b[0;34m\u001b[0m\u001b[0m\n\u001b[0m",
      "\u001b[0;32m/opt/conda/lib/python3.6/site-packages/faker/proxy.py\u001b[0m in \u001b[0;36m__getitem__\u001b[0;34m(self, locale)\u001b[0m\n\u001b[1;32m     57\u001b[0m \u001b[0;34m\u001b[0m\u001b[0m\n\u001b[1;32m     58\u001b[0m     \u001b[0;32mdef\u001b[0m \u001b[0m__getitem__\u001b[0m\u001b[0;34m(\u001b[0m\u001b[0mself\u001b[0m\u001b[0;34m,\u001b[0m \u001b[0mlocale\u001b[0m\u001b[0;34m)\u001b[0m\u001b[0;34m:\u001b[0m\u001b[0;34m\u001b[0m\u001b[0m\n\u001b[0;32m---> 59\u001b[0;31m         \u001b[0;32mreturn\u001b[0m \u001b[0mself\u001b[0m\u001b[0;34m.\u001b[0m\u001b[0m_factory_map\u001b[0m\u001b[0;34m[\u001b[0m\u001b[0mlocale\u001b[0m\u001b[0;34m.\u001b[0m\u001b[0mreplace\u001b[0m\u001b[0;34m(\u001b[0m\u001b[0;34m'-'\u001b[0m\u001b[0;34m,\u001b[0m \u001b[0;34m'_'\u001b[0m\u001b[0;34m)\u001b[0m\u001b[0;34m]\u001b[0m\u001b[0;34m\u001b[0m\u001b[0m\n\u001b[0m\u001b[1;32m     60\u001b[0m \u001b[0;34m\u001b[0m\u001b[0m\n\u001b[1;32m     61\u001b[0m     \u001b[0;32mdef\u001b[0m \u001b[0m__getattribute__\u001b[0m\u001b[0;34m(\u001b[0m\u001b[0mself\u001b[0m\u001b[0;34m,\u001b[0m \u001b[0mattr\u001b[0m\u001b[0;34m)\u001b[0m\u001b[0;34m:\u001b[0m\u001b[0;34m\u001b[0m\u001b[0m\n",
      "\u001b[0;31mKeyError\u001b[0m: 'en_GB'"
     ]
    }
   ],
   "source": [
    "from collections import OrderedDict\n",
    "from faker import Faker\n",
    "locales = OrderedDict([\n",
    "    ('en-US', 1),\n",
    "    ('en-PH', 2),\n",
    "    ('ja_JP', 3),\n",
    "])\n",
    "fake = Faker(locales)\n",
    "\n",
    "# Get the list of locales specified during instantiation\n",
    "fake.locales\n",
    "\n",
    "# Get the list of internal generators of this `Faker` instance\n",
    "fake.factories\n",
    "\n",
    "# Get the internal generator for 'en_US' locale\n",
    "fake['en_US']\n",
    "\n",
    "# Get the internal generator for 'en_PH' locale\n",
    "fake['en_PH']\n",
    "\n",
    "# Get the internal generator for 'ja_JP' locale\n",
    "fake['ja_JP']\n",
    "\n",
    "# Will raise a KeyError as 'en_GB' was not included\n",
    "fake['en_GB']"
   ]
  },
  {
   "cell_type": "code",
   "execution_count": 4,
   "metadata": {},
   "outputs": [
    {
     "ename": "AttributeError",
     "evalue": "'Generator' object has no attribute 'zipcode'",
     "output_type": "error",
     "traceback": [
      "\u001b[0;31m---------------------------------------------------------------------------\u001b[0m",
      "\u001b[0;31mAttributeError\u001b[0m                            Traceback (most recent call last)",
      "\u001b[0;32m<ipython-input-4-7931a9642c37>\u001b[0m in \u001b[0;36m<module>\u001b[0;34m()\u001b[0m\n\u001b[1;32m     30\u001b[0m \u001b[0;34m\u001b[0m\u001b[0m\n\u001b[1;32m     31\u001b[0m \u001b[0;31m# Will raise an AttributeError\u001b[0m\u001b[0;34m\u001b[0m\u001b[0;34m\u001b[0m\u001b[0m\n\u001b[0;32m---> 32\u001b[0;31m \u001b[0mfake\u001b[0m\u001b[0;34m[\u001b[0m\u001b[0;34m'en_PH'\u001b[0m\u001b[0;34m]\u001b[0m\u001b[0;34m.\u001b[0m\u001b[0mzipcode\u001b[0m\u001b[0;34m(\u001b[0m\u001b[0;34m)\u001b[0m\u001b[0;34m\u001b[0m\u001b[0m\n\u001b[0m\u001b[1;32m     33\u001b[0m \u001b[0;34m\u001b[0m\u001b[0m\n\u001b[1;32m     34\u001b[0m \u001b[0;31m# Generate a Luzon province name\u001b[0m\u001b[0;34m\u001b[0m\u001b[0;34m\u001b[0m\u001b[0m\n",
      "\u001b[0;31mAttributeError\u001b[0m: 'Generator' object has no attribute 'zipcode'"
     ]
    }
   ],
   "source": [
    "# Set the seed value of the shared `random.Random` object\n",
    "# across all internal generators that will ever be created\n",
    "Faker.seed(0)\n",
    "\n",
    "# Creates and seeds a unique `random.Random` object for\n",
    "# each internal generator of this `Faker` instance\n",
    "fake.seed_instance(0)\n",
    "\n",
    "# Creates and seeds a unique `random.Random` object for\n",
    "# the en_US internal generator of this `Faker` instance\n",
    "fake.seed_locale('en_US', 0)\n",
    "\n",
    "# Generate a name based on the provided weights\n",
    "# en_US - 16.67% of the time (1 / (1 + 2 + 3))\n",
    "# en_PH - 33.33% of the time (2 / (1 + 2 + 3))\n",
    "# ja_JP - 50.00% of the time (3 / (1 + 2 + 3))\n",
    "fake.name()\n",
    "\n",
    "# Generate a name under the en_US locale\n",
    "fake['en-US'].name()\n",
    "\n",
    "# Generate a zipcode based on the provided weights\n",
    "# Note: en_PH does not support the zipcode provider method\n",
    "# en_US - 25% of the time (1 / (1 + 3))\n",
    "# ja_JP - 75% of the time (3 / (1 + 3))\n",
    "fake.zipcode()\n",
    "\n",
    "# Generate a zipcode under the ja_JP locale\n",
    "fake['ja_JP'].zipcode()\n",
    "\n",
    "# Will raise an AttributeError\n",
    "fake['en_PH'].zipcode()\n",
    "\n",
    "# Generate a Luzon province name\n",
    "# Note: only en_PH out of the three supports this provider method\n",
    "fake.luzon_province()\n",
    "\n",
    "# Generate a Luzon province name\n",
    "fake['en_PH'].luzon_province()\n",
    "\n",
    "# Will raise an AttributeError\n",
    "fake['ja_JP'].luzon_province()"
   ]
  },
  {
   "cell_type": "code",
   "execution_count": null,
   "metadata": {},
   "outputs": [],
   "source": []
  }
 ],
 "metadata": {
  "kernelspec": {
   "display_name": "Python 3",
   "language": "python",
   "name": "python3"
  },
  "language_info": {
   "codemirror_mode": {
    "name": "ipython",
    "version": 3
   },
   "file_extension": ".py",
   "mimetype": "text/x-python",
   "name": "python",
   "nbconvert_exporter": "python",
   "pygments_lexer": "ipython3",
   "version": "3.6.6"
  }
 },
 "nbformat": 4,
 "nbformat_minor": 2
}
